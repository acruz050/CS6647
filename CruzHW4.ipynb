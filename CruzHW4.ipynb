{
  "nbformat": 4,
  "nbformat_minor": 0,
  "metadata": {
    "colab": {
      "provenance": [],
      "authorship_tag": "ABX9TyNhwR+WFIGkqTRyS1/0vjRA",
      "include_colab_link": true
    },
    "kernelspec": {
      "name": "python3",
      "display_name": "Python 3"
    },
    "language_info": {
      "name": "python"
    }
  },
  "cells": [
    {
      "cell_type": "markdown",
      "metadata": {
        "id": "view-in-github",
        "colab_type": "text"
      },
      "source": [
        "<a href=\"https://colab.research.google.com/github/acruz050/CS6647/blob/main/CruzHW4.ipynb\" target=\"_parent\"><img src=\"https://colab.research.google.com/assets/colab-badge.svg\" alt=\"Open In Colab\"/></a>"
      ]
    },
    {
      "cell_type": "code",
      "source": [
        "#Suppose you have three bills. Two are $10 bills and the other one is a $100 bill. Your friend\n",
        "#puts each bill in a box. So one box has $100, and the other two boxes have $10 each. You pick\n",
        "#a box, let's say box 1, then your friend who knows what's inside the boxes, opens another box,\n",
        "#say box 3, which has a $10 bill. Do you want to stick your choice or switch to another box in\n",
        "#order to get the $100 bill?  ( if the 100 is inside box 2 the friend must open box 3, but if the\n",
        "#100 is inside box 1 the friend can open either box 2 or 3.)\n",
        "#Produce the probability numbers and a graph to justify your choice to stick or switch.\n",
        "\n",
        "import numpy as np\n",
        "from scipy.stats import randint\n",
        "import matplotlib.pyplot as plt\n",
        "\n",
        "def monte_carlo_simulation(num_simulations):\n",
        "    stick_wins = 0\n",
        "    switch_wins = 0\n",
        "\n",
        "    for _ in range(num_simulations):\n",
        "        # Randomly assign the $100 bill to a box (0, 1, or 2)\n",
        "        correct_box = np.random.randint(0, 3)\n",
        "\n",
        "        # Choose a box initially\n",
        "        initial_choice = np.random.randint(0, 3)\n",
        "\n",
        "        # Determine the box the friend will open\n",
        "        possible_boxes = [0, 1, 2]\n",
        "        possible_boxes.remove(initial_choice)\n",
        "\n",
        "        if initial_choice == correct_box:\n",
        "            possible_boxes.remove(np.random.choice(possible_boxes))\n",
        "        else:\n",
        "            possible_boxes.remove(correct_box)\n",
        "\n",
        "        # Friend opens one of the boxes with $10 bill\n",
        "        opened_box = possible_boxes[0]\n",
        "\n",
        "        # Determine the remaining box to switch to\n",
        "        remaining_box = list(set([0, 1, 2]) - {initial_choice, opened_box})[0]\n",
        "\n",
        "        # Check if sticking or switching would result in a win\n",
        "        if initial_choice == correct_box:\n",
        "            stick_wins += 1\n",
        "        elif remaining_box == correct_box:\n",
        "            switch_wins += 1\n",
        "\n",
        "    # Calculate probabilities\n",
        "    stick_prob = stick_wins / num_simulations\n",
        "    switch_prob = switch_wins / num_simulations\n",
        "\n",
        "    return stick_prob, switch_prob\n",
        "\n",
        "# Run Monte Carlo simulation with 10,000 simulations\n",
        "stick_prob, switch_prob = monte_carlo_simulation(10000)\n",
        "\n",
        "# Visualize the results\n",
        "labels = ['Stick', 'Switch']\n",
        "probabilities = [stick_prob, switch_prob]\n",
        "\n",
        "plt.bar(labels, probabilities)\n",
        "plt.xlabel('Strategy')\n",
        "plt.ylabel('Probability')\n",
        "plt.title('Monte Carlo Simulation Results')\n",
        "plt.show()\n"
      ],
      "metadata": {
        "colab": {
          "base_uri": "https://localhost:8080/",
          "height": 472
        },
        "id": "k-LyabmkcLdR",
        "outputId": "4ff3abf7-e474-448b-a122-887469a4b4f2"
      },
      "execution_count": 2,
      "outputs": [
        {
          "output_type": "display_data",
          "data": {
            "text/plain": [
              "<Figure size 640x480 with 1 Axes>"
            ],
            "image/png": "[encoded data removed]"
          },
          "metadata": {}
        }
      ]
    },
    {
      "cell_type": "code",
      "source": [
        "#Use the Monte Carlo method to get integral for\n",
        "#The function to be integrated f(x) = cos(71x) + sin(13x)\n",
        "#With integration limits from x = 0 to x = 1\n",
        "\n",
        "import numpy as np\n",
        "import sympy as sp\n",
        "import matplotlib.pyplot as plt\n",
        "\n",
        "def monte_carlo_integration(f, lower_limit, upper_limit, num_samples):\n",
        "    # Generate random x-coordinates within the integration limits\n",
        "    random_x = np.random.uniform(lower_limit, upper_limit, num_samples)\n",
        "\n",
        "    # Evaluate the function at the random x-coordinates\n",
        "    function_values = np.vectorize(sp.lambdify(x, f))(random_x)\n",
        "\n",
        "    # Calculate the average function value\n",
        "    average_value = np.mean(function_values)\n",
        "\n",
        "    # Calculate the interval length\n",
        "    interval_length = upper_limit - lower_limit\n",
        "\n",
        "    # Calculate the integral approximation\n",
        "    integral_approximation = interval_length * average_value\n",
        "\n",
        "    return integral_approximation\n",
        "\n",
        "# Define the symbolic variable\n",
        "x = sp.symbols('x')\n",
        "\n",
        "# Define the function to be integrated\n",
        "f = sp.cos(71 * x) + sp.sin(13 * x)\n",
        "\n",
        "# Specify the integration limits\n",
        "lower_limit = 0\n",
        "upper_limit = 1\n",
        "\n",
        "# Set the number of samples (larger number gives a more accurate approximation)\n",
        "num_samples = 10**6\n",
        "\n",
        "# Perform the Monte Carlo integration\n",
        "integral_approximation = monte_carlo_integration(f, lower_limit, upper_limit, num_samples)\n",
        "\n",
        "# Analytically calculate the exact integral using sympy\n",
        "exact_integral = sp.integrate(f, (x, lower_limit, upper_limit))\n",
        "\n",
        "print(\"Approximate integral:\", integral_approximation)\n",
        "print(\"Exact integral:\", exact_integral)\n"
      ],
      "metadata": {
        "colab": {
          "base_uri": "https://localhost:8080/"
        },
        "id": "9tQXHH8cfXqX",
        "outputId": "ded3d9ff-adb2-4f8b-d4c5-67664d608f07"
      },
      "execution_count": 4,
      "outputs": [
        {
          "output_type": "stream",
          "name": "stdout",
          "text": [
            "Approximate integral: 0.01919292888435491\n",
            "Exact integral: -cos(13)/13 + sin(71)/71 + 1/13\n"
          ]
        }
      ]
    }
  ]
}