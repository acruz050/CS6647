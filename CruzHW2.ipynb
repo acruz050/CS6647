{
  "nbformat": 4,
  "nbformat_minor": 0,
  "metadata": {
    "colab": {
      "provenance": [],
      "authorship_tag": "ABX9TyPtt5eu3MYnh/oKjx26CLzF",
      "include_colab_link": true
    },
    "kernelspec": {
      "name": "python3",
      "display_name": "Python 3"
    },
    "language_info": {
      "name": "python"
    }
  },
  "cells": [
    {
      "cell_type": "markdown",
      "metadata": {
        "id": "view-in-github",
        "colab_type": "text"
      },
      "source": [
        "<a href=\"https://colab.research.google.com/github/acruz050/CS6647/blob/main/CruzHW2.ipynb\" target=\"_parent\"><img src=\"https://colab.research.google.com/assets/colab-badge.svg\" alt=\"Open In Colab\"/></a>"
      ]
    },
    {
      "cell_type": "code",
      "execution_count": 16,
      "metadata": {
        "colab": {
          "base_uri": "https://localhost:8080/"
        },
        "id": "uIVkjRp64vp7",
        "outputId": "1e334362-5b7f-4e86-8c3e-13644b78563e"
      },
      "outputs": [
        {
          "output_type": "stream",
          "name": "stdout",
          "text": [
            "[345, 595, 650]\n"
          ]
        }
      ],
      "source": [
        "#1. Use for loop to generate 3 random integers between 100 and 999 which is divisible by 5.\n",
        "import random\n",
        "\n",
        "divisible_by_5 = []\n",
        "\n",
        "while len(divisible_by_5) < 3:\n",
        "    num = random.randint(100, 999)\n",
        "    if num % 5 == 0:\n",
        "        divisible_by_5.append(num)\n",
        "\n",
        "print(divisible_by_5)\n"
      ]
    },
    {
      "cell_type": "code",
      "source": [
        "#2. The Logistic distribution is used in Extreme Value problems where it can act as a mixture\n",
        "#   of Gumbel distributions. Draw samples from a logistic distribution and plot it. loc=10, scale=1\n",
        "#   and size =1000.\n",
        "\n",
        "import numpy as np\n",
        "import matplotlib.pyplot as plt\n",
        "\n",
        "# Generate samples from logistic distribution\n",
        "samples = np.random.logistic(loc=10, scale=1, size=1000)\n",
        "\n",
        "# Plot the histogram of the samples\n",
        "plt.hist(samples, bins=50, density=True, alpha=0.7, edgecolor='black')\n",
        "plt.xlabel('Value')\n",
        "plt.ylabel('Density')\n",
        "plt.title('Logistic Distribution')\n",
        "plt.grid(True)\n",
        "plt.show()"
      ],
      "metadata": {
        "colab": {
          "base_uri": "https://localhost:8080/",
          "height": 472
        },
        "id": "9FLwO6Em66tT",
        "outputId": "3507ea34-a0c2-4152-c2c7-d7ac0847db9e"
      },
      "execution_count": 17,
      "outputs": [
        {
          "output_type": "display_data",
          "data": {
            "text/plain": [
              "<Figure size 640x480 with 1 Axes>"
            ],
            "image/png": "[encoded data removed]"
          },
          "metadata": {}
        }
      ]
    },
    {
      "cell_type": "code",
      "source": [
        "#3. Generate 6 digit random secure OTP.\n",
        "\n",
        "import secrets\n",
        "\n",
        "otp = secrets.randbelow(10**6)\n",
        "otp = str(otp).zfill(6)  # Ensure OTP is always 6 digits by zero-padding if necessary\n",
        "\n",
        "print(\"Your OTP:\", otp)\n"
      ],
      "metadata": {
        "colab": {
          "base_uri": "https://localhost:8080/"
        },
        "id": "3LSFoOuM7u5A",
        "outputId": "3b67ac63-eaf3-4dfc-c6af-843c0d1e8e7d"
      },
      "execution_count": 18,
      "outputs": [
        {
          "output_type": "stream",
          "name": "stdout",
          "text": [
            "Your OTP: 745233\n"
          ]
        }
      ]
    },
    {
      "cell_type": "code",
      "source": [
        "#4. Pick a random character from a given string such as \"Simulation and modeling\"\n",
        "\n",
        "import random\n",
        "\n",
        "string = \"Simulation and modeling\"\n",
        "random_char = random.choice(string)\n",
        "\n",
        "print(\"Random character:\", random_char)\n"
      ],
      "metadata": {
        "colab": {
          "base_uri": "https://localhost:8080/"
        },
        "id": "ODFhP8yz767x",
        "outputId": "2815ae9e-d0b3-4d16-84f3-f5733555b6cf"
      },
      "execution_count": 19,
      "outputs": [
        {
          "output_type": "stream",
          "name": "stdout",
          "text": [
            "Random character: n\n"
          ]
        }
      ]
    },
    {
      "cell_type": "code",
      "source": [
        "#5. Import string and random module. Generate a string with 5 characters with UPPER case and\n",
        "#.  lower case.\n",
        "\n",
        "import string\n",
        "import random\n",
        "\n",
        "characters = string.ascii_uppercase + string.ascii_lowercase\n",
        "random_string = ''.join(random.choices(characters, k=5))\n",
        "\n",
        "print(\"Random string:\", random_string)\n"
      ],
      "metadata": {
        "colab": {
          "base_uri": "https://localhost:8080/"
        },
        "id": "x8F8f6uY8Iks",
        "outputId": "61ffb9ac-2c2a-4196-a959-a6b32b224a38"
      },
      "execution_count": 20,
      "outputs": [
        {
          "output_type": "stream",
          "name": "stdout",
          "text": [
            "Random string: LJpLi\n"
          ]
        }
      ]
    },
    {
      "cell_type": "code",
      "source": [
        "#6. Import string and random module. Generate a Password with length 10 which contains 2\n",
        "#.  upper case letters, 1 digit, and 1 special symbol.\n",
        "\n",
        "import string\n",
        "import random\n",
        "\n",
        "def generate_password():\n",
        "    uppercase_letters = string.ascii_uppercase\n",
        "    lowercase_letters = string.ascii_lowercase\n",
        "    digits = string.digits\n",
        "    special_symbols = string.punctuation\n",
        "\n",
        "    password = []\n",
        "\n",
        "    # Generate 2 random uppercase letters\n",
        "    password.extend(random.choices(uppercase_letters, k=2))\n",
        "\n",
        "    # Generate 1 random digit\n",
        "    password.extend(random.choices(digits, k=1))\n",
        "\n",
        "    # Generate 1 random special symbol\n",
        "    password.extend(random.choices(special_symbols, k=1))\n",
        "\n",
        "    # Generate remaining random characters\n",
        "    remaining_length = 10 - len(password)\n",
        "    password.extend(random.choices(uppercase_letters + lowercase_letters + digits + special_symbols, k=remaining_length))\n",
        "\n",
        "    # Shuffle the password characters\n",
        "    random.shuffle(password)\n",
        "\n",
        "    # Convert the password list to a string\n",
        "    password = ''.join(password)\n",
        "\n",
        "    return password\n",
        "\n",
        "# Generate a password\n",
        "password = generate_password()\n",
        "print(\"Generated Password:\", password)\n"
      ],
      "metadata": {
        "colab": {
          "base_uri": "https://localhost:8080/"
        },
        "id": "sUmJs1v48b1g",
        "outputId": "fb47ce7b-7c82-4e2b-a94f-bfdf5f4478e8"
      },
      "execution_count": 21,
      "outputs": [
        {
          "output_type": "stream",
          "name": "stdout",
          "text": [
            "Generated Password: R*WkD5]/V2\n"
          ]
        }
      ]
    },
    {
      "cell_type": "code",
      "source": [
        "#7. First generate evenly spaced values within 0 to 9. Give it new shape 3x3. Then randomly\n",
        "#.  permute it.\n",
        "\n",
        "import numpy as np\n",
        "\n",
        "# Generate evenly spaced values from 0 to 9\n",
        "values = np.linspace(0, 9, 9)\n",
        "\n",
        "# Reshape into a 3x3 matrix\n",
        "matrix = values.reshape(3, 3)\n",
        "\n",
        "print(\"Original Matrix:\")\n",
        "print(matrix)\n",
        "\n",
        "# Randomly permute the matrix\n",
        "permuted_matrix = np.random.permutation(matrix)\n",
        "\n",
        "print(\"\\nPermuted Matrix:\")\n",
        "print(permuted_matrix)\n"
      ],
      "metadata": {
        "colab": {
          "base_uri": "https://localhost:8080/"
        },
        "id": "fsAxltIU82bz",
        "outputId": "45a52edd-3f72-4521-fbbc-ecc228401953"
      },
      "execution_count": 22,
      "outputs": [
        {
          "output_type": "stream",
          "name": "stdout",
          "text": [
            "Original Matrix:\n",
            "[[0.    1.125 2.25 ]\n",
            " [3.375 4.5   5.625]\n",
            " [6.75  7.875 9.   ]]\n",
            "\n",
            "Permuted Matrix:\n",
            "[[3.375 4.5   5.625]\n",
            " [0.    1.125 2.25 ]\n",
            " [6.75  7.875 9.   ]]\n"
          ]
        }
      ]
    },
    {
      "cell_type": "code",
      "source": [
        "#8. Generate random secure token of 64 bytes and random URL\n",
        "\n",
        "import secrets\n",
        "import string\n",
        "\n",
        "# Generate random secure token of 64 bytes\n",
        "token = secrets.token_hex(32)\n",
        "\n",
        "print(\"Random Secure Token:\", token)\n",
        "\n",
        "# Generate random URL\n",
        "characters = string.ascii_letters + string.digits\n",
        "url = ''.join(secrets.choice(characters) for _ in range(10))\n",
        "\n",
        "print(\"Random URL:\", url)\n"
      ],
      "metadata": {
        "colab": {
          "base_uri": "https://localhost:8080/"
        },
        "id": "S1ERLm5F9JW5",
        "outputId": "927b07d7-d500-4725-e83e-e501888ee963"
      },
      "execution_count": 23,
      "outputs": [
        {
          "output_type": "stream",
          "name": "stdout",
          "text": [
            "Random Secure Token: 8427d50ab863a1ac5bd77bc9434f297e6d8721b0f80260808c0688938e46da65\n",
            "Random URL: O4T2IqLDLX\n"
          ]
        }
      ]
    },
    {
      "cell_type": "code",
      "source": [
        "#9.  Pick a random number from 1 to 6. Do it in such a way that every time you must get the same\n",
        "#.   random output number(no hard coding numbers). do this 5 times.\n",
        "\n",
        "import random\n",
        "\n",
        "# Set the seed value\n",
        "random.seed(42)\n",
        "\n",
        "# Perform 5 iterations\n",
        "for _ in range(5):\n",
        "    random_number = random.randint(1, 6)\n",
        "    print(\"Random Number:\", random_number)\n"
      ],
      "metadata": {
        "colab": {
          "base_uri": "https://localhost:8080/"
        },
        "id": "Ed9gakhN9XJN",
        "outputId": "04da4fa5-e79d-4dd1-8e1a-5d5f82d9376e"
      },
      "execution_count": 24,
      "outputs": [
        {
          "output_type": "stream",
          "name": "stdout",
          "text": [
            "Random Number: 6\n",
            "Random Number: 1\n",
            "Random Number: 1\n",
            "Random Number: 6\n",
            "Random Number: 3\n"
          ]
        }
      ]
    },
    {
      "cell_type": "code",
      "source": [
        "#10. Write an interactive Python program to play a “guess the number” game. The computer should\n",
        "#.   think of a random integer between 1 and 20 and the user (player) has to try to guess the\n",
        "#.   number within six attempts. The program should let the player know if the guess is too high or\n",
        "#.   too low.\n",
        "\n",
        "import random\n",
        "\n",
        "def play_game():\n",
        "    # Generate a random number between 1 and 20\n",
        "    secret_number = random.randint(1, 20)\n",
        "    attempts = 6\n",
        "\n",
        "    print(\"Guess the Number Game!\")\n",
        "    print(\"I'm thinking of a number between 1 and 20. Can you guess it in 6 attempts?\")\n",
        "\n",
        "    while attempts > 0:\n",
        "        # Get player's guess\n",
        "        guess = int(input(\"Enter your guess: \"))\n",
        "\n",
        "        # Check if guess is correct\n",
        "        if guess == secret_number:\n",
        "            print(\"Congratulations! You guessed the number!\")\n",
        "            return\n",
        "\n",
        "        # Check if guess is too high or too low\n",
        "        if guess > secret_number:\n",
        "            print(\"Too high!\")\n",
        "        else:\n",
        "            print(\"Too low!\")\n",
        "\n",
        "        attempts -= 1\n",
        "        print(\"Attempts left:\", attempts)\n",
        "\n",
        "    print(\"Game over! You couldn't guess the number. The number was\", secret_number)\n",
        "\n",
        "play_game()\n"
      ],
      "metadata": {
        "colab": {
          "base_uri": "https://localhost:8080/"
        },
        "id": "kZEmUYbS9uqC",
        "outputId": "9b899e24-8cd3-4257-f342-629d2f047b98"
      },
      "execution_count": 25,
      "outputs": [
        {
          "output_type": "stream",
          "name": "stdout",
          "text": [
            "Guess the Number Game!\n",
            "I'm thinking of a number between 1 and 20. Can you guess it in 6 attempts?\n",
            "Enter your guess: 45\n",
            "Too high!\n",
            "Attempts left: 5\n",
            "Enter your guess: 5\n",
            "Too low!\n",
            "Attempts left: 4\n",
            "Enter your guess: 12\n",
            "Too high!\n",
            "Attempts left: 3\n",
            "Enter your guess: 1\n",
            "Too low!\n",
            "Attempts left: 2\n",
            "Enter your guess: 3\n",
            "Too low!\n",
            "Attempts left: 1\n",
            "Enter your guess: 6\n",
            "Too low!\n",
            "Attempts left: 0\n",
            "Game over! You couldn't guess the number. The number was 8\n"
          ]
        }
      ]
    }
  ]
}