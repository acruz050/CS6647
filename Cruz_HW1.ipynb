{
  "nbformat": 4,
  "nbformat_minor": 0,
  "metadata": {
    "colab": {
      "provenance": [],
      "authorship_tag": "ABX9TyOgF8iq4y3Du59YahYQVOiJ",
      "include_colab_link": true
    },
    "kernelspec": {
      "name": "python3",
      "display_name": "Python 3"
    },
    "language_info": {
      "name": "python"
    }
  },
  "cells": [
    {
      "cell_type": "markdown",
      "metadata": {
        "id": "view-in-github",
        "colab_type": "text"
      },
      "source": [
        "<a href=\"https://colab.research.google.com/github/acruz050/CS6647/blob/main/Cruz_HW1.ipynb\" target=\"_parent\"><img src=\"https://colab.research.google.com/assets/colab-badge.svg\" alt=\"Open In Colab\"/></a>"
      ]
    },
    {
      "cell_type": "code",
      "source": [
        "#1. Solve the quadratic function x^2 +2x - 8 = 0\n",
        "\n",
        "import sympy as smp\n",
        "from sympy import symbols, Eq, solve\n",
        "\n",
        "# Define the symbol\n",
        "x = symbols('x')\n",
        "\n",
        "# Define the equation\n",
        "equation = Eq(x**2 + 2*x - 8, 0)\n",
        "\n",
        "# Solve the equation\n",
        "solutions = solve(equation, x)\n",
        "\n",
        "# Print the solutions\n",
        "for solution in solutions:\n",
        "    print(solution)\n"
      ],
      "metadata": {
        "colab": {
          "base_uri": "https://localhost:8080/"
        },
        "id": "Ja6LFoM0gWVv",
        "outputId": "03f27156-d7a3-49c1-f268-55d02fcc223d"
      },
      "execution_count": 2,
      "outputs": [
        {
          "output_type": "stream",
          "name": "stdout",
          "text": [
            "-4\n",
            "2\n"
          ]
        }
      ]
    },
    {
      "cell_type": "code",
      "source": [
        "#2. What is the function f(x) which is equal to its derivative?\n",
        "\n",
        "from sympy import symbols, Function, Eq, exp, solve\n",
        "\n",
        "# Define the symbol\n",
        "x = symbols('x')\n",
        "\n",
        "# Define the function\n",
        "f = Function('f')(x)\n",
        "\n",
        "# Define the equation\n",
        "equation = Eq(f, f.diff(x))\n",
        "\n",
        "# Solve the equation\n",
        "solutions = solve(equation, f)\n",
        "\n",
        "# Print the solutions\n",
        "for solution in solutions:\n",
        "    print(solution)"
      ],
      "metadata": {
        "colab": {
          "base_uri": "https://localhost:8080/"
        },
        "id": "y1Bv9KIjpIwh",
        "outputId": "5156888c-d882-466f-a3dd-7576e8e4ae7f"
      },
      "execution_count": 7,
      "outputs": [
        {
          "output_type": "stream",
          "name": "stdout",
          "text": [
            "Derivative(f(x), x)\n"
          ]
        }
      ]
    },
    {
      "cell_type": "code",
      "source": [
        "#3. Compute the area under f(x) = x^3 from x = 0 to x = 1\n",
        "\n",
        "from sympy import symbols, integrate\n",
        "\n",
        "# Define the symbol\n",
        "x = symbols('x')\n",
        "\n",
        "# Define the function\n",
        "f = x**3\n",
        "\n",
        "# Calculate the definite integral\n",
        "area = integrate(f, (x, 0, 1))\n",
        "\n",
        "# Print the result\n",
        "print(area)\n",
        "\n"
      ],
      "metadata": {
        "colab": {
          "base_uri": "https://localhost:8080/"
        },
        "id": "MAAQISdJqWK_",
        "outputId": "461baf12-4849-4937-aa07-68e452d0fe49"
      },
      "execution_count": 8,
      "outputs": [
        {
          "output_type": "stream",
          "name": "stdout",
          "text": [
            "1/4\n"
          ]
        }
      ]
    },
    {
      "cell_type": "code",
      "source": [
        "#4. Calculate sum x = 0 to ∞ (1/(x!)) \n",
        "\n",
        "from sympy import symbols, factorial, summation\n",
        "\n",
        "x = symbols('x')\n",
        "series = 1 / factorial(x)\n",
        "\n",
        "result = summation(series, (x, 0, float('inf')))\n",
        "print(result)"
      ],
      "metadata": {
        "colab": {
          "base_uri": "https://localhost:8080/"
        },
        "id": "OV-ZvZfer1E9",
        "outputId": "2282dda2-da60-4c85-e4b3-145345d0d876"
      },
      "execution_count": 27,
      "outputs": [
        {
          "output_type": "stream",
          "name": "stdout",
          "text": [
            "E\n"
          ]
        }
      ]
    },
    {
      "cell_type": "code",
      "source": [
        "#5. Calculate lim n - > ∞ (1 + 1/n)^n\n",
        "\n",
        "from sympy import Symbol, limit\n",
        "\n",
        "n = Symbol('n')\n",
        "expr = (1 + 1/n)**n\n",
        "\n",
        "# Calculate the limit as n approaches infinity\n",
        "limit_value = limit(expr, n, float('inf'))\n",
        "print(limit_value)"
      ],
      "metadata": {
        "colab": {
          "base_uri": "https://localhost:8080/"
        },
        "id": "Ga_VRRLIw7ij",
        "outputId": "0e977f09-4199-4080-ffd1-6910a89d7b3f"
      },
      "execution_count": 9,
      "outputs": [
        {
          "output_type": "stream",
          "name": "stdout",
          "text": [
            "E\n"
          ]
        }
      ]
    },
    {
      "cell_type": "code",
      "source": [
        "#6. Flips the matrix through its diagonal [[2, -3, -8, 7], [-2, -1, 2, -7], [1, 0, -3, 6]]\n",
        "\n",
        "from sympy import Matrix\n",
        "\n",
        "matrix = Matrix([[2, -3, -8, 7], [-2, -1, 2, -7], [1, 0, -3, 6]])\n",
        "\n",
        "# Transpose the matrix\n",
        "flipped_matrix = matrix.T\n",
        "print(flipped_matrix)"
      ],
      "metadata": {
        "colab": {
          "base_uri": "https://localhost:8080/"
        },
        "id": "Thg9ggsKx2L7",
        "outputId": "65ba75bb-8741-443a-f34c-fb1b579cb768"
      },
      "execution_count": 10,
      "outputs": [
        {
          "output_type": "stream",
          "name": "stdout",
          "text": [
            "Matrix([[2, -2, 1], [-3, -1, 0], [-8, 2, -3], [7, -7, 6]])\n"
          ]
        }
      ]
    },
    {
      "cell_type": "code",
      "source": [
        "#7. Row operations: We know the following matrix M = eye(3), M [[1, 0, 0], [0, 0, 1]]\n",
        "\n",
        "from sympy import Matrix, eye\n",
        "\n",
        "M = eye(3)\n",
        "\n",
        "M.row_op(1, lambda v, j: v + 3*M[0, j]); M\n",
        "\n",
        "Matrix([\n",
        "[1, 0, 0],\n",
        "[0, 0, 1]])\n",
        "\n",
        "print(M)\n"
      ],
      "metadata": {
        "colab": {
          "base_uri": "https://localhost:8080/"
        },
        "id": "CuzWV-Sg1uQW",
        "outputId": "a3f05251-588f-4154-88a5-a5e12ecb2f24"
      },
      "execution_count": 35,
      "outputs": [
        {
          "output_type": "stream",
          "name": "stdout",
          "text": [
            "Matrix([[1, 0, 0], [3, 1, 0], [0, 0, 1]])\n"
          ]
        }
      ]
    },
    {
      "cell_type": "code",
      "source": [
        "#8. Find determinat of matrix [[1, 0, 0], [3, 0, 1], [0, 0, 1]]\n",
        "\n",
        "from sympy import Matrix\n",
        "\n",
        "matrix = Matrix([[1, 0, 0], [3, 0, 1], [0, 0, 1]])\n",
        "\n",
        "determinant = matrix.det()\n",
        "print(determinant)"
      ],
      "metadata": {
        "colab": {
          "base_uri": "https://localhost:8080/"
        },
        "id": "luELMeiZ4GLj",
        "outputId": "e56671e6-bd8e-4a3f-af3b-1c3b852903ae"
      },
      "execution_count": 22,
      "outputs": [
        {
          "output_type": "stream",
          "name": "stdout",
          "text": [
            "0\n"
          ]
        }
      ]
    },
    {
      "cell_type": "code",
      "source": [
        "#9. Find the following matrix's eigenvalue and eigen vector M = Matrix( [[9, -1], [-2, 6]]) \n",
        "\n",
        "from sympy import Matrix\n",
        "\n",
        "M = Matrix([[9, -1], [-2, 6]])\n",
        "\n",
        "eigenvalues = M.eigenvals()\n",
        "eigenvectors = M.eigenvects()\n",
        "\n",
        "print(\"Eigenvalues:\", eigenvalues)\n",
        "print(\"Eigenvectors:\")\n",
        "for eigenvector in eigenvectors:\n",
        "    print(\"Eigenvalue:\", eigenvector[0])\n",
        "    print(\"Multiplicity:\", eigenvector[1])\n",
        "    print(\"Eigenvectors:\", eigenvector[2])\n",
        "    print()"
      ],
      "metadata": {
        "colab": {
          "base_uri": "https://localhost:8080/"
        },
        "id": "U4f8-oxf4nOk",
        "outputId": "b35617d1-ddc4-4af5-869e-2e51eb8d6a86"
      },
      "execution_count": 23,
      "outputs": [
        {
          "output_type": "stream",
          "name": "stdout",
          "text": [
            "Eigenvalues: {15/2 - sqrt(17)/2: 1, sqrt(17)/2 + 15/2: 1}\n",
            "Eigenvectors:\n",
            "Eigenvalue: 15/2 - sqrt(17)/2\n",
            "Multiplicity: 1\n",
            "Eigenvectors: [Matrix([\n",
            "[-3/4 + sqrt(17)/4],\n",
            "[                1]])]\n",
            "\n",
            "Eigenvalue: sqrt(17)/2 + 15/2\n",
            "Multiplicity: 1\n",
            "Eigenvectors: [Matrix([\n",
            "[-sqrt(17)/4 - 3/4],\n",
            "[                1]])]\n",
            "\n"
          ]
        }
      ]
    },
    {
      "cell_type": "code",
      "source": [
        "#10. Implement the Predator-prey model in Python \n",
        "\n",
        "import numpy as np\n",
        "import matplotlib.pyplot as plt\n",
        "\n",
        "# Define the parameters\n",
        "alpha = 1.1  # Fish growth rate\n",
        "beta = 0.4  # Fish consumption rate by bears\n",
        "delta = 0.1  # Bear death rate\n",
        "gamma = 0.4  # Bear reproduction rate\n",
        "\n",
        "# Define the initial populations\n",
        "fish_population = 10  # Starting fish population (in hundreds)\n",
        "bear_population = 1  # Starting bear population (in hundreds)\n",
        "\n",
        "# Define the time array\n",
        "t = np.linspace(0, 50, num=1000)\n",
        "\n",
        "# Define the function for the predator-prey model\n",
        "def predator_prey_model(fish, bear):\n",
        "    dF_dt = alpha * fish - beta * fish * bear\n",
        "    dB_dt = gamma * fish * bear - delta * bear\n",
        "    return dF_dt, dB_dt\n",
        "\n",
        "# Solve the differential equations using Euler's method\n",
        "def solve_predator_prey(fish0, bear0, t):\n",
        "    fish = [fish0]\n",
        "    bear = [bear0]\n",
        "\n",
        "    for i in range(1, len(t)):\n",
        "        dt = t[i] - t[i-1]\n",
        "        dF_dt, dB_dt = predator_prey_model(fish[i-1], bear[i-1])\n",
        "        fish.append(fish[i-1] + dF_dt * dt)\n",
        "        bear.append(bear[i-1] + dB_dt * dt)\n",
        "\n",
        "    return fish, bear\n",
        "\n",
        "# Solve the predator-prey model\n",
        "fish_population_vals, bear_population_vals = solve_predator_prey(fish_population, bear_population, t)\n",
        "\n",
        "# Plot the population dynamics\n",
        "plt.plot(t, fish_population_vals, label='Fish')\n",
        "plt.plot(t, bear_population_vals, label='Bears')\n",
        "plt.xlabel('Time')\n",
        "plt.ylabel('Population (in hundreds)')\n",
        "plt.title('Predator-Prey Model: Fish vs Bears')\n",
        "plt.legend()\n",
        "plt.show()"
      ],
      "metadata": {
        "colab": {
          "base_uri": "https://localhost:8080/",
          "height": 472
        },
        "id": "L9A75eHW5MPj",
        "outputId": "df96acc0-5420-49e3-b0b1-4303a177f973"
      },
      "execution_count": 24,
      "outputs": [
        {
          "output_type": "display_data",
          "data": {
            "text/plain": [
              "<Figure size 640x480 with 1 Axes>"
            ],
            "image/png": "[encoded data removed]"
          },
          "metadata": {}
        }
      ]
    }
  ]
}