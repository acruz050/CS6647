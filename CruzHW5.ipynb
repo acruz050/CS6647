{
  "nbformat": 4,
  "nbformat_minor": 0,
  "metadata": {
    "colab": {
      "provenance": [],
      "authorship_tag": "ABX9TyO4JIeLnrf9HMBmOxnq7s1G",
      "include_colab_link": true
    },
    "kernelspec": {
      "name": "python3",
      "display_name": "Python 3"
    },
    "language_info": {
      "name": "python"
    }
  },
  "cells": [
    {
      "cell_type": "markdown",
      "metadata": {
        "id": "view-in-github",
        "colab_type": "text"
      },
      "source": [
        "<a href=\"https://colab.research.google.com/github/acruz050/CS6647/blob/main/CruzHW5.ipynb\" target=\"_parent\"><img src=\"https://colab.research.google.com/assets/colab-badge.svg\" alt=\"Open In Colab\"/></a>"
      ]
    },
    {
      "cell_type": "code",
      "execution_count": 1,
      "metadata": {
        "colab": {
          "base_uri": "https://localhost:8080/"
        },
        "id": "EDxl3OBOTfUl",
        "outputId": "89ae3bb5-deef-463a-87ac-4d5364939ef3"
      },
      "outputs": [
        {
          "output_type": "stream",
          "name": "stdout",
          "text": [
            "Probability distribution after 15 days: [0.13761468 0.13761468 0.13761468]\n",
            "Probability distribution after 10,000 days: [0.13761468 0.13761468 0.13761468]\n"
          ]
        }
      ],
      "source": [
        "#Using the given state diagram to determine probability of possible transition between elements\n",
        "#Rest, Exercise and Sweeties.\n",
        "\n",
        "import numpy as np\n",
        "\n",
        "# Define the transition matrix\n",
        "transition_matrix = np.array([[0.2, 0.6, 0.2], [0.1, 0.6, 0.3], [0.2, 0.7, 0.1]])\n",
        "\n",
        "# Define the initial state distribution\n",
        "initial_state = np.array([1, 0, 0])  # Assuming starting from the Rest state\n",
        "\n",
        "# Calculate the probability distribution after 15 days\n",
        "prob_15_days = np.linalg.matrix_power(transition_matrix, 15).dot(initial_state)\n",
        "\n",
        "# Calculate the probability distribution after 10,000 days\n",
        "prob_10000_days = np.linalg.matrix_power(transition_matrix, 10000).dot(initial_state)\n",
        "\n",
        "# Print the results\n",
        "print(\"Probability distribution after 15 days:\", prob_15_days)\n",
        "print(\"Probability distribution after 10,000 days:\", prob_10000_days)\n"
      ]
    }
  ]
}