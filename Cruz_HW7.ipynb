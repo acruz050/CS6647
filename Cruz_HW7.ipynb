{
  "nbformat": 4,
  "nbformat_minor": 0,
  "metadata": {
    "colab": {
      "provenance": [],
      "authorship_tag": "ABX9TyOE7RmXj9ZoL4Un8c7GLr5E",
      "include_colab_link": true
    },
    "kernelspec": {
      "name": "python3",
      "display_name": "Python 3"
    },
    "language_info": {
      "name": "python"
    }
  },
  "cells": [
    {
      "cell_type": "markdown",
      "metadata": {
        "id": "view-in-github",
        "colab_type": "text"
      },
      "source": [
        "<a href=\"https://colab.research.google.com/github/acruz050/CS6647/blob/main/Cruz_HW7.ipynb\" target=\"_parent\"><img src=\"https://colab.research.google.com/assets/colab-badge.svg\" alt=\"Open In Colab\"/></a>"
      ]
    },
    {
      "cell_type": "code",
      "execution_count": 2,
      "metadata": {
        "colab": {
          "base_uri": "https://localhost:8080/"
        },
        "id": "E3VEQtVbzBth",
        "outputId": "a856f57b-c8ed-4890-f24e-abc98cd52b7d"
      },
      "outputs": [
        {
          "output_type": "stream",
          "name": "stdout",
          "text": [
            "Optimal Length (L): 3.014719041316611e+104\n",
            "Optimal Width (W): 3.0147190413166106e+104\n",
            "Optimal Height (H): 3.01471904131661e+104\n",
            "Optimal Volume: inf\n",
            "Optimal Surface Area: 5.4531185388461666e+209\n"
          ]
        },
        {
          "output_type": "stream",
          "name": "stderr",
          "text": [
            "<ipython-input-2-ac0faa307884>:10: RuntimeWarning: overflow encountered in double_scalars\n",
            "  return -(l * w * h)  # Negative sign to maximize instead of minimize\n",
            "/usr/local/lib/python3.10/dist-packages/scipy/optimize/_numdiff.py:576: RuntimeWarning: invalid value encountered in subtract\n",
            "  df = fun(x) - f0\n"
          ]
        }
      ],
      "source": [
        "#Someone wants to build a cardboard box and maximize the volume by adjusting the length\n",
        "#(L), width (W), and height (H) of the box and the same time the surface area of the box\n",
        "#(area of 6 sides) stays no more than 10. Print optimal L, W, H, Volume and surface area.\n",
        "\n",
        "from scipy.optimize import minimize\n",
        "\n",
        "# Define the objective function to maximize the volume\n",
        "def objective_function(x):\n",
        "    l, w, h = x\n",
        "    return (l * w * h)  
        "\n",
        "# Define the constraint function to limit the surface area to 10\n",
        "def constraint_function(x):\n",
        "    l, w, h = x\n",
        "    return 2 * (l * w + l * h + w * h) - 10  # Surface area constraint: 2(lw + lh + wh) <= 10\n",
        "\n",
        "# Define the bounds for each variable\n",
        "bounds = ((0, None), (0, None), (0, None))  # Non-negative bounds for length, width, and height\n",
        "\n",
        "# Define the initial guess for the variables\n",
        "x0 = [1, 1, 1]\n",
        "\n",
        "# Define the optimization problem\n",
        "problem = {'type': 'ineq', 'fun': constraint_function}\n",
        "\n",
        "# Solve the optimization problem\n",
        "solution = minimize(objective_function, x0, method='SLSQP', bounds=bounds, constraints=problem)\n",
        "\n",
        "# Extract the optimal values\n",
        "optimal_l, optimal_w, optimal_h = solution.x\n",
        "optimal_volume = -solution.fun  # Convert back to positive to get the actual volume\n",
        "optimal_surface_area = 2 * (optimal_l * optimal_w + optimal_l * optimal_h + optimal_w * optimal_h)\n",
        "\n",
        "# Print the optimal values\n",
        "print(\"Optimal Length (L):\", optimal_l)\n",
        "print(\"Optimal Width (W):\", optimal_w)\n",
        "print(\"Optimal Height (H):\", optimal_h)\n",
        "print(\"Optimal Volume:\", optimal_volume)\n",
        "print(\"Optimal Surface Area:\", optimal_surface_area)\n"
      ]
    }
  ]
}
