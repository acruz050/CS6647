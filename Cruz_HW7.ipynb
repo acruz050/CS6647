{
  "nbformat": 4,
  "nbformat_minor": 0,
  "metadata": {
    "colab": {
      "provenance": [],
      "authorship_tag": "ABX9TyMwpqQL6VAz5PjF+2/7rTbe",
      "include_colab_link": true
    },
    "kernelspec": {
      "name": "python3",
      "display_name": "Python 3"
    },
    "language_info": {
      "name": "python"
    }
  },
  "cells": [
    {
      "cell_type": "markdown",
      "metadata": {
        "id": "view-in-github",
        "colab_type": "text"
      },
      "source": [
        "<a href=\"https://colab.research.google.com/github/acruz050/CS6647/blob/main/Cruz_HW7.ipynb\" target=\"_parent\"><img src=\"https://colab.research.google.com/assets/colab-badge.svg\" alt=\"Open In Colab\"/></a>"
      ]
    },
    {
      "cell_type": "code",
      "execution_count": 5,
      "metadata": {
        "colab": {
          "base_uri": "https://localhost:8080/"
        },
        "id": "E3VEQtVbzBth",
        "outputId": "58b1344c-8016-4c07-d13c-f701428b0f29"
      },
      "outputs": [
        {
          "output_type": "stream",
          "name": "stdout",
          "text": [
            "Optimal Length (L): 1.2909834486403386\n",
            "Optimal Width (W): 1.291006962171289\n",
            "Optimal Height (H): 1.2909929355383072\n",
            "Optimal Volume: -2.1516574146165457\n",
            "Optimal Surface Area: 10.000000000456081\n"
          ]
        }
      ],
      "source": [
        "#Someone wants to build a cardboard box and maximize the volume by adjusting the length\n",
        "#(L), width (W), and height (H) of the box and the same time the surface area of the box\n",
        "#(area of 6 sides) stays no more than 10. Print optimal L, W, H, Volume and surface area.\n",
        "\n",
        "from scipy.optimize import minimize\n",
        "\n",
        "# Define the objective function to maximize the volume\n",
        "def objective_function(x):\n",
        "    l, w, h = x\n",
        "    return (l * w * h)\n",
        "\n",
        "# Define the constraint function to limit the surface area to 10\n",
        "def constraint_function(x):\n",
        "    l, w, h = x\n",
        "    return 2 * (l * w + l * h + w * h) - 10  # Surface area constraint: 2(lw + lh + wh) <= 10\n",
        "\n",
        "# Define the bounds for each variable\n",
        "bounds = ((0, None), (0, None), (0, None))  # Non-negative bounds for length, width, and height\n",
        "\n",
        "# Define the initial guess for the variables\n",
        "x0 = [1, 1, 1]\n",
        "\n",
        "# Define the optimization problem\n",
        "problem = {'type': 'ineq', 'fun': constraint_function}\n",
        "\n",
        "# Solve the optimization problem\n",
        "solution = minimize(objective_function, x0, method='SLSQP', bounds=bounds, constraints=problem)\n",
        "\n",
        "# Extract the optimal values\n",
        "optimal_l, optimal_w, optimal_h = solution.x\n",
        "optimal_volume = -solution.fun  # Convert back to positive to get the actual volume\n",
        "optimal_surface_area = 2 * (optimal_l * optimal_w + optimal_l * optimal_h + optimal_w * optimal_h)\n",
        "\n",
        "# Print the optimal values\n",
        "print(\"Optimal Length (L):\", optimal_l)\n",
        "print(\"Optimal Width (W):\", optimal_w)\n",
        "print(\"Optimal Height (H):\", optimal_h)\n",
        "print(\"Optimal Volume:\", optimal_volume)\n",
        "print(\"Optimal Surface Area:\", optimal_surface_area)\n"
      ]
    }
  ]
}